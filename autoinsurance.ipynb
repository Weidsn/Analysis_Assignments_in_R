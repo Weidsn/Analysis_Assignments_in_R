{
 "cells": [
  {
   "cell_type": "code",
   "execution_count": 1,
   "id": "24012596",
   "metadata": {},
   "outputs": [],
   "source": [
    "import pandas as pd\n",
    "from sklearn.preprocessing import StandardScaler\n",
    "\n",
    "# Load the dataset\n",
    "df_demographic = pd.read_csv(\"demographic.csv\")"
   ]
  },
  {
   "cell_type": "markdown",
   "id": "20054a7d",
   "metadata": {},
   "source": [
    "##### The algorithm below is NOT optimal. Getting it to work is more important."
   ]
  },
  {
   "cell_type": "code",
   "execution_count": 31,
   "id": "6a2c1591",
   "metadata": {},
   "outputs": [
    {
     "data": {
      "text/plain": [
       "0    300000 - 349999\n",
       "1                NaN\n",
       "2      75000 - 99999\n",
       "3       1000 - 24999\n",
       "4                NaN\n",
       "5    100000 - 124999\n",
       "6      75000 - 99999\n",
       "7      50000 - 74999\n",
       "8      75000 - 99999\n",
       "9      75000 - 99999\n",
       "Name: HOME_MARKET_VALUE, dtype: object"
      ]
     },
     "execution_count": 31,
     "metadata": {},
     "output_type": "execute_result"
    }
   ],
   "source": [
    "# Let l be the HOME_MARKET_VALUE column\n",
    "# We want to split this column into two columns: HOUSE_MARKET_VALUE_MIN and HOUSE_MARKET_VALUE_MAX\n",
    "l = df_demographic.iloc[:,5]\n",
    "\n",
    "# Here is what the colunm looks like\n",
    "l[0:10]\n",
    "\n",
    "# l[0].split(\" - \")[0]\n",
    "# # l[1].split(\" - \")[0]\n",
    "# l[2].split(\" - \")[0]"
   ]
  },
  {
   "cell_type": "code",
   "execution_count": 21,
   "id": "33da047b",
   "metadata": {},
   "outputs": [],
   "source": [
    "# Splitting HOME_MARKET_VALUE into two lists: min (mi) and max (ma)\n",
    "mi = []\n",
    "ma = []\n",
    "for i in range(len(l)):\n",
    "    try:\n",
    "        l[i].split(\" - \")\n",
    "        mi.append(l[i].split(\" - \")[0])\n",
    "        ma.append(l[i].split(\" - \")[1])\n",
    "    except AttributeError:\n",
    "        mi.append(pd.NA)\n",
    "        ma.append(pd.NA)\n",
    "    except IndexError:\n",
    "        ma.append(pd.NA)"
   ]
  },
  {
   "cell_type": "code",
   "execution_count": 22,
   "id": "fb8622e0",
   "metadata": {},
   "outputs": [],
   "source": [
    "# convert str to int\n",
    "for i in range(len(ma)):\n",
    "    try:\n",
    "        mi[i] = int(mi[i])\n",
    "        ma[i] = int(ma[i])\n",
    "    except (ValueError,TypeError):\n",
    "        continue"
   ]
  },
  {
   "cell_type": "code",
   "execution_count": 23,
   "id": "5cb375ca",
   "metadata": {},
   "outputs": [
    {
     "data": {
      "text/plain": [
       "[300000, <NA>, 75000, 1000, <NA>, 100000, 75000, 50000, 75000, 75000]"
      ]
     },
     "execution_count": 23,
     "metadata": {},
     "output_type": "execute_result"
    }
   ],
   "source": [
    "mi[0:10]\n",
    "# ma[0:10]"
   ]
  },
  {
   "cell_type": "code",
   "execution_count": 25,
   "id": "485da9cb",
   "metadata": {},
   "outputs": [],
   "source": [
    "# Add new columns to dataframe\n",
    "df_demographic.insert(9, \"house_market_value_min\".upper(), mi)\n",
    "df_demographic.insert(10, \"house_market_value_max\".upper(), ma)"
   ]
  },
  {
   "cell_type": "code",
   "execution_count": 26,
   "id": "cdcd0c88",
   "metadata": {},
   "outputs": [
    {
     "name": "stdout",
     "output_type": "stream",
     "text": [
      "<class 'pandas.core.frame.DataFrame'>\n",
      "RangeIndex: 2112579 entries, 0 to 2112578\n",
      "Data columns (total 11 columns):\n",
      " #   Column                  Dtype  \n",
      "---  ------                  -----  \n",
      " 0   INDIVIDUAL_ID           float64\n",
      " 1   INCOME                  float64\n",
      " 2   HAS_CHILDREN            float64\n",
      " 3   LENGTH_OF_RESIDENCE     float64\n",
      " 4   MARITAL_STATUS          object \n",
      " 5   HOME_MARKET_VALUE       object \n",
      " 6   HOME_OWNER              int64  \n",
      " 7   COLLEGE_DEGREE          int64  \n",
      " 8   GOOD_CREDIT             int64  \n",
      " 9   HOUSE_MARKET_VALUE_MIN  object \n",
      " 10  HOUSE_MARKET_VALUE_MAX  object \n",
      "dtypes: float64(4), int64(3), object(4)\n",
      "memory usage: 177.3+ MB\n"
     ]
    }
   ],
   "source": [
    "df_demographic.info()"
   ]
  },
  {
   "cell_type": "code",
   "execution_count": 28,
   "id": "c2e18114",
   "metadata": {},
   "outputs": [],
   "source": [
    "# Preparing dataset for normalization\n",
    "x_train_demographic = df_demographic.iloc[:,[1, 2, 3, 6, 7, 8]]"
   ]
  },
  {
   "cell_type": "code",
   "execution_count": 29,
   "id": "c974877c",
   "metadata": {},
   "outputs": [],
   "source": [
    "sc = StandardScaler()\n",
    "x_train_demographic = sc.fit_transform(x_train_demographic)"
   ]
  },
  {
   "cell_type": "code",
   "execution_count": null,
   "id": "179f34f6",
   "metadata": {},
   "outputs": [],
   "source": [
    "# Add normalized columns back to dataframe\n",
    "for i in range(3):\n",
    "    df_demographic.iloc[:, i+1] = x_train_demographic[:,i]\n",
    "for i in [3, 4, 5]:\n",
    "    df_demographic.iloc[:, i+3] = x_train_demographic[:,i]"
   ]
  },
  {
   "cell_type": "code",
   "execution_count": null,
   "id": "f09b9884",
   "metadata": {},
   "outputs": [],
   "source": [
    "for i in [3, 4, 5, 6, 7]:\n",
    "    df_demographic.iloc[:, i+3] = x_train_demographic[:,i]"
   ]
  },
  {
   "cell_type": "code",
   "execution_count": null,
   "id": "cf12da28",
   "metadata": {},
   "outputs": [],
   "source": [
    "df_demographic.info()"
   ]
  },
  {
   "cell_type": "code",
   "execution_count": null,
   "id": "30613e45",
   "metadata": {},
   "outputs": [],
   "source": [
    "# df_demographic.to_csv(\"demographic_scaled.csv\")"
   ]
  }
 ],
 "metadata": {
  "kernelspec": {
   "display_name": "Python 3 (ipykernel)",
   "language": "python",
   "name": "python3"
  },
  "language_info": {
   "codemirror_mode": {
    "name": "ipython",
    "version": 3
   },
   "file_extension": ".py",
   "mimetype": "text/x-python",
   "name": "python",
   "nbconvert_exporter": "python",
   "pygments_lexer": "ipython3",
   "version": "3.11.4"
  }
 },
 "nbformat": 4,
 "nbformat_minor": 5
}
